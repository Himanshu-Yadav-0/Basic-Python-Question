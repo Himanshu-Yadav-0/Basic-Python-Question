{
 "cells": [
  {
   "cell_type": "code",
   "execution_count": 2,
   "metadata": {},
   "outputs": [
    {
     "name": "stdout",
     "output_type": "stream",
     "text": [
      "120\n"
     ]
    }
   ],
   "source": [
    "def fact(number):\n",
    "    if(number==1):\n",
    "        return 1\n",
    "    else:\n",
    "        return number*fact(number-1)\n",
    "    \n",
    "num = fact(5)\n",
    "print(num)"
   ]
  },
  {
   "cell_type": "code",
   "execution_count": 6,
   "metadata": {},
   "outputs": [
    {
     "name": "stdout",
     "output_type": "stream",
     "text": [
      "Palindrome\n"
     ]
    }
   ],
   "source": [
    "def plaindrome(text):\n",
    "    if len(text)<=1:\n",
    "        return \"Palindrome\"\n",
    "    else:\n",
    "        if text[0]==text[-1]:\n",
    "            return plaindrome(text[1:-1])\n",
    "        else:\n",
    "            return \"Not a Palindrome\"\n",
    "\n",
    "print(plaindrome(\"IshaahsI\"))"
   ]
  },
  {
   "cell_type": "code",
   "execution_count": null,
   "metadata": {},
   "outputs": [],
   "source": [
    "def fibo(num):\n",
    "    if num==0 or num==1:\n",
    "        return 1\n",
    "    else:\n",
    "        return fibo(num-1)+fibo(num-2)\n",
    "    \n",
    "fibo(48)"
   ]
  }
 ],
 "metadata": {
  "kernelspec": {
   "display_name": ".venv",
   "language": "python",
   "name": "python3"
  },
  "language_info": {
   "codemirror_mode": {
    "name": "ipython",
    "version": 3
   },
   "file_extension": ".py",
   "mimetype": "text/x-python",
   "name": "python",
   "nbconvert_exporter": "python",
   "pygments_lexer": "ipython3",
   "version": "3.13.2"
  }
 },
 "nbformat": 4,
 "nbformat_minor": 2
}
