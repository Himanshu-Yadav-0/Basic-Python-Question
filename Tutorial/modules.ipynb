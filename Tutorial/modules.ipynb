{
 "cells": [
  {
   "cell_type": "markdown",
   "metadata": {},
   "source": [
    "### What are Modules?\n",
    "\n",
    "Consider a module to be same as a code library.\n",
    "A file containing a set of functions you want to include in your application.\n",
    "\n",
    "\n",
    "Example of modules\n",
    "- Math\n",
    "- Random\n",
    "- os \n",
    "- time"
   ]
  },
  {
   "cell_type": "code",
   "execution_count": 1,
   "metadata": {},
   "outputs": [
    {
     "name": "stdout",
     "output_type": "stream",
     "text": [
      "\n",
      "Please wait a moment while I gather a list of all available modules...\n",
      "\n",
      "test_sqlite3: testing with SQLite version 3.45.3\n",
      "IPython             _win32sysloader     logging             sysconfig\n",
      "__future__          _win32verstamp_pywin32ctypes lzma                tabnanny\n",
      "__hello__           _winapi             mailbox             tarfile\n",
      "__phello__          _winxptheme         marshal             tempfile\n",
      "_abc                _wmi                math                test\n",
      "_aix_support        _zoneinfo           matplotlib_inline   textwrap\n",
      "_android_support    abc                 mimetypes           this\n",
      "_apple_support      adodbapi            mmap                threading\n",
      "_ast                afxres              mmapfile            time\n",
      "_asyncio            antigravity         mmsystem            timeit\n",
      "_bisect             argparse            modulefinder        timer\n",
      "_blake2             array               msvcrt              tkinter\n",
      "_bz2                ast                 multiprocessing     token\n",
      "_codecs             asttokens           nest_asyncio        tokenize\n",
      "_codecs_cn          asyncio             netbios             tomllib\n",
      "_codecs_hk          atexit              netrc               tornado\n",
      "_codecs_iso2022     base64              nt                  trace\n",
      "_codecs_jp          bdb                 ntpath              traceback\n",
      "_codecs_kr          binascii            ntsecuritycon       tracemalloc\n",
      "_codecs_tw          bisect              nturl2path          traitlets\n",
      "_collections        builtins            numbers             tty\n",
      "_collections_abc    bz2                 odbc                turtle\n",
      "_colorize           cProfile            opcode              turtledemo\n",
      "_compat_pickle      calendar            operator            types\n",
      "_compression        cmath               optparse            typing\n",
      "_contextvars        cmd                 os                  unicodedata\n",
      "_csv                code                packaging           unittest\n",
      "_ctypes             codecs              parso               urllib\n",
      "_ctypes_test        codeop              pathlib             uuid\n",
      "_datetime           collections         pdb                 venv\n",
      "_decimal            colorama            perfmon             warnings\n",
      "_elementtree        colorsys            pickle              wave\n",
      "_functools          comm                pickletools         wcwidth\n",
      "_hashlib            commctrl            pip                 weakref\n",
      "_heapq              compileall          pkgutil             webbrowser\n",
      "_imp                concurrent          platform            win2kras\n",
      "_interpchannels     configparser        platformdirs        win32api\n",
      "_interpqueues       contextlib          plistlib            win32clipboard\n",
      "_interpreters       contextvars         poplib              win32com\n",
      "_io                 copy                posixpath           win32con\n",
      "_ios_support        copyreg             pprint              win32console\n",
      "_json               csv                 profile             win32cred\n",
      "_locale             ctypes              prompt_toolkit      win32crypt\n",
      "_lsprof             curses              pstats              win32cryptcon\n",
      "_lzma               dataclasses         psutil              win32event\n",
      "_markupbase         datetime            pty                 win32evtlog\n",
      "_md5                dateutil            pure_eval           win32evtlogutil\n",
      "_multibytecodec     dbm                 py_compile          win32file\n",
      "_multiprocessing    dde                 pyclbr              win32gui\n",
      "_opcode             debugpy             pydoc               win32gui_struct\n",
      "_opcode_metadata    decimal             pydoc_data          win32help\n",
      "_operator           decorator           pyexpat             win32inet\n",
      "_osx_support        difflib             pygments            win32inetcon\n",
      "_overlapped         dis                 pythoncom           win32job\n",
      "_pickle             doctest             pywin               win32lz\n",
      "_py_abc             email               pywin32_bootstrap   win32net\n",
      "_pydatetime         encodings           pywin32_testutil    win32netcon\n",
      "_pydecimal          ensurepip           pywintypes          win32pdh\n",
      "_pyio               enum                queue               win32pdhquery\n",
      "_pylong             errno               quopri              win32pdhutil\n",
      "_pyrepl             executing           random              win32pipe\n",
      "_queue              faulthandler        rasutil             win32print\n",
      "_random             filecmp             re                  win32process\n",
      "_sha1               fileinput           regcheck            win32profile\n",
      "_sha2               fnmatch             regutil             win32ras\n",
      "_sha3               fractions           reprlib             win32rcparser\n",
      "_signal             ftplib              rlcompleter         win32security\n",
      "_sitebuiltins       functools           runpy               win32service\n",
      "_socket             gc                  sched               win32serviceutil\n",
      "_sqlite3            genericpath         secrets             win32timezone\n",
      "_sre                getopt              select              win32trace\n",
      "_ssl                getpass             selectors           win32traceutil\n",
      "_stat               gettext             servicemanager      win32transaction\n",
      "_statistics         glob                shelve              win32ts\n",
      "_string             graphlib            shlex               win32ui\n",
      "_strptime           gzip                shutil              win32uiole\n",
      "_struct             hashlib             signal              win32verstamp\n",
      "_symtable           heapq               site                win32wnet\n",
      "_sysconfig          hmac                six                 winerror\n",
      "_testbuffer         html                smtplib             winioctlcon\n",
      "_testcapi           http                socket              winnt\n",
      "_testclinic         idlelib             socketserver        winperf\n",
      "_testclinic_limited imaplib             sqlite3             winreg\n",
      "_testconsole        importlib           sre_compile         winsound\n",
      "_testimportmultiple inspect             sre_constants       winxpgui\n",
      "_testinternalcapi   io                  sre_parse           winxptheme\n",
      "_testlimitedcapi    ipaddress           ssl                 wsgiref\n",
      "_testmultiphase     ipykernel           sspi                xml\n",
      "_testsinglephase    ipykernel_launcher  sspicon             xmlrpc\n",
      "_thread             isapi               stack_data          xxsubtype\n",
      "_threading_local    itertools           start_pythonwin     zipapp\n",
      "_tkinter            jedi                stat                zipfile\n",
      "_tokenize           json                statistics          zipimport\n",
      "_tracemalloc        jupyter             string              zlib\n",
      "_typing             jupyter_client      stringprep          zmq\n",
      "_uuid               jupyter_core        struct              zoneinfo\n",
      "_warnings           keyword             subprocess          \n",
      "_weakref            linecache           symtable            \n",
      "_weakrefset         locale              sys                 \n",
      "\n",
      "Enter any module name to get more help.  Or, type \"modules spam\" to search\n",
      "for modules whose name or summary contain the string \"spam\".\n",
      "\n"
     ]
    }
   ],
   "source": [
    "help('modules')"
   ]
  },
  {
   "cell_type": "code",
   "execution_count": 3,
   "metadata": {},
   "outputs": [
    {
     "data": {
      "text/plain": [
       "1.0"
      ]
     },
     "execution_count": 3,
     "metadata": {},
     "output_type": "execute_result"
    }
   ],
   "source": [
    "import math\n",
    "\n",
    "math.log2(2)"
   ]
  },
  {
   "cell_type": "code",
   "execution_count": 4,
   "metadata": {},
   "outputs": [
    {
     "data": {
      "text/plain": [
       "1"
      ]
     },
     "execution_count": 4,
     "metadata": {},
     "output_type": "execute_result"
    }
   ],
   "source": [
    "math.gcd(2,3,4)"
   ]
  },
  {
   "cell_type": "code",
   "execution_count": 10,
   "metadata": {},
   "outputs": [
    {
     "data": {
      "text/plain": [
       "2"
      ]
     },
     "execution_count": 10,
     "metadata": {},
     "output_type": "execute_result"
    }
   ],
   "source": [
    "import random\n",
    "random.choice([1,2,3,4,5,6,7])"
   ]
  },
  {
   "cell_type": "code",
   "execution_count": 13,
   "metadata": {},
   "outputs": [
    {
     "data": {
      "text/plain": [
       "1739623101.0662527"
      ]
     },
     "execution_count": 13,
     "metadata": {},
     "output_type": "execute_result"
    }
   ],
   "source": [
    "import time\n",
    "\n",
    "time.time()"
   ]
  },
  {
   "cell_type": "code",
   "execution_count": 14,
   "metadata": {},
   "outputs": [
    {
     "data": {
      "text/plain": [
       "'Sat Feb 15 18:08:31 2025'"
      ]
     },
     "execution_count": 14,
     "metadata": {},
     "output_type": "execute_result"
    }
   ],
   "source": [
    "time.ctime()"
   ]
  },
  {
   "cell_type": "code",
   "execution_count": 15,
   "metadata": {},
   "outputs": [
    {
     "name": "stdout",
     "output_type": "stream",
     "text": [
      "hello\n",
      "World\n"
     ]
    }
   ],
   "source": [
    "print(\"hello\")\n",
    "time.sleep(2)\n",
    "print(\"World\")"
   ]
  },
  {
   "cell_type": "code",
   "execution_count": 16,
   "metadata": {},
   "outputs": [
    {
     "data": {
      "text/plain": [
       "'d:\\\\College\\\\30DaysCoding\\\\Data Analytic\\\\Python\\\\Basic-Python-Question\\\\Tutorial'"
      ]
     },
     "execution_count": 16,
     "metadata": {},
     "output_type": "execute_result"
    }
   ],
   "source": [
    "import os\n",
    "os.getcwd()"
   ]
  },
  {
   "cell_type": "code",
   "execution_count": 17,
   "metadata": {},
   "outputs": [
    {
     "data": {
      "text/plain": [
       "['builtInFunctions.ipynb',\n",
       " 'ifElse.ipynb',\n",
       " 'Keywords_Identifiers.ipynb',\n",
       " 'Literals.ipynb',\n",
       " 'Loops.ipynb',\n",
       " 'modules.ipynb',\n",
       " 'Operators.ipynb',\n",
       " 'print.ipynb',\n",
       " 'typeConversion.ipynb',\n",
       " 'userInput.ipynb',\n",
       " 'variablesInPython.ipynb']"
      ]
     },
     "execution_count": 17,
     "metadata": {},
     "output_type": "execute_result"
    }
   ],
   "source": [
    "os.listdir()"
   ]
  },
  {
   "cell_type": "code",
   "execution_count": null,
   "metadata": {},
   "outputs": [],
   "source": []
  }
 ],
 "metadata": {
  "kernelspec": {
   "display_name": ".venv",
   "language": "python",
   "name": "python3"
  },
  "language_info": {
   "codemirror_mode": {
    "name": "ipython",
    "version": 3
   },
   "file_extension": ".py",
   "mimetype": "text/x-python",
   "name": "python",
   "nbconvert_exporter": "python",
   "pygments_lexer": "ipython3",
   "version": "3.13.2"
  }
 },
 "nbformat": 4,
 "nbformat_minor": 2
}
