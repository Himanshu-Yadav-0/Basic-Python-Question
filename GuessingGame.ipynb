{
 "cells": [
  {
   "cell_type": "code",
   "execution_count": 6,
   "metadata": {},
   "outputs": [
    {
     "name": "stdout",
     "output_type": "stream",
     "text": [
      "Enter a number\n",
      "Guess Lower\n",
      "Input again\n",
      "Guess Lower\n",
      "Input again\n",
      "Guess Lower\n",
      "Input again\n",
      "Guess Higher\n",
      "Input again\n",
      "Guess Lower\n",
      "Input again\n",
      "Guess Lower\n",
      "Input again\n",
      "You got the Jackpot in 7 tries\n"
     ]
    }
   ],
   "source": [
    "import random\n",
    "jackpot = random.randint(1,100)\n",
    "print(\"Enter a number\")\n",
    "user_Input = int(input())\n",
    "count = 1\n",
    "while user_Input != jackpot:\n",
    "    if user_Input<jackpot:\n",
    "        print(\"Guess Higher\")\n",
    "        print(\"Input again\")\n",
    "        user_Input = int(input())\n",
    "        count +=1\n",
    "    else:\n",
    "        print(\"Guess Lower\")\n",
    "        print(\"Input again\")\n",
    "        user_Input = int(input())\n",
    "        count+=1\n",
    "    \n",
    "print(\"You got the Jackpot in\",count,\"tries\")    \n",
    "\n"
   ]
  },
  {
   "cell_type": "code",
   "execution_count": null,
   "metadata": {},
   "outputs": [],
   "source": []
  }
 ],
 "metadata": {
  "kernelspec": {
   "display_name": ".venv",
   "language": "python",
   "name": "python3"
  },
  "language_info": {
   "codemirror_mode": {
    "name": "ipython",
    "version": 3
   },
   "file_extension": ".py",
   "mimetype": "text/x-python",
   "name": "python",
   "nbconvert_exporter": "python",
   "pygments_lexer": "ipython3",
   "version": "3.13.2"
  }
 },
 "nbformat": 4,
 "nbformat_minor": 2
}
